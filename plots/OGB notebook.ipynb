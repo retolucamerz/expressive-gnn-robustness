{
 "cells": [
  {
   "cell_type": "code",
   "execution_count": 1,
   "metadata": {},
   "outputs": [],
   "source": [
    "# to enable imports from parent package\n",
    "import sys\n",
    "import os\n",
    "from pathlib import Path\n",
    "parent_dir = Path(os. getcwd()).parent.absolute()\n",
    "sys.path.append(str(parent_dir))\n",
    "\n",
    "import pandas as pd\n",
    "import numpy as np\n",
    "import seaborn as sns\n",
    "from datasets import get_dataset_split\n",
    "\n",
    "\n",
    "train_split, valid_split, test_split = get_dataset_split(\"ogbg-molhiv\", root=\"../data\")\n",
    "\n",
    "splits = {\n",
    "    \"train\": train_split,\n",
    "    \"valid\": valid_split,\n",
    "    \"test\": test_split,\n",
    "}"
   ]
  },
  {
   "cell_type": "code",
   "execution_count": 2,
   "metadata": {},
   "outputs": [],
   "source": [
    "labels = {\n",
    "    \"split\": [],\n",
    "    \"id\": [],\n",
    "    \"label\": [],\n",
    "    \"num_nodes\": [],\n",
    "    \"num_edges\": [],\n",
    "}\n",
    "\n",
    "for split_name, split in splits.items():\n",
    "    for graph in split:\n",
    "        labels[\"split\"].append(split_name)\n",
    "        labels[\"id\"].append(graph.id.item())\n",
    "        labels[\"label\"].append(graph.y.item())\n",
    "        labels[\"num_nodes\"].append(graph.num_nodes)\n",
    "        assert graph.num_edges%2 == 0\n",
    "        labels[\"num_edges\"].append(int(graph.num_edges/2))\n",
    "\n",
    "labels = {key: np.array(val) for key, val in labels.items()}\n",
    "labels = pd.DataFrame(data=labels)"
   ]
  },
  {
   "cell_type": "code",
   "execution_count": 3,
   "metadata": {},
   "outputs": [
    {
     "data": {
      "text/plain": [
       "(<Axes: xlabel='num_nodes', ylabel='Count'>, 0.0025287524010990346)"
      ]
     },
     "execution_count": 3,
     "metadata": {},
     "output_type": "execute_result"
    },
    {
     "data": {
      "image/png": "[encoded data removed]",
      "text/plain": [
       "<Figure size 640x480 with 1 Axes>"
      ]
     },
     "metadata": {},
     "output_type": "display_data"
    }
   ],
   "source": [
    "import seaborn as sns\n",
    "\n",
    "f = sum(n>100 for n in labels[\"num_nodes\"]) / len(labels[\"num_nodes\"])\n",
    "sns.histplot(x=\"num_nodes\", hue=\"split\", data=labels), f"
   ]
  },
  {
   "cell_type": "code",
   "execution_count": 5,
   "metadata": {},
   "outputs": [],
   "source": [
    "some_graph = train_split[0]\n",
    "num_atom_features = some_graph.x.shape[-1]\n",
    "num_bond_features = some_graph.edge_attr.shape[-1]\n",
    "\n",
    "atom_feature_map = {\n",
    "    0: \"atomic_num\",\n",
    "    1: \"chiral_tag\",\n",
    "    2: \"degree\",\n",
    "    3: \"formal_charge\",\n",
    "    4: \"num_h\",\n",
    "    5: \"num_rad_electrons\",\n",
    "    6: \"hybridization\",\n",
    "    7: \"is_aromatic\",\n",
    "    8: \"in_ring\",\n",
    "}\n",
    "rev_atom_feature_map = {val: key for key, val in atom_feature_map.items()}\n",
    "\n",
    "bond_feature_map = {\n",
    "    0: \"bond_type\",\n",
    "    1: \"stereo\",\n",
    "    2: \"is_conjugated\",\n",
    "}\n",
    "rev_bond_feature_map = {val: key for key, val in bond_feature_map.items()}\n",
    "\n",
    "atom_features = {\n",
    "    \"split\": [],\n",
    "    \"id\": [],\n",
    "} | {feat: [] for feat in atom_feature_map.values()}\n",
    "bond_features = {\n",
    "    \"split\": [],\n",
    "    \"id\": [],\n",
    "} | {feat: [] for feat in bond_feature_map.values()}\n",
    "\n",
    "for split_name, split in splits.items():\n",
    "    for graph in split:\n",
    "        atom_features[\"split\"].append(np.repeat(split_name, graph.num_nodes))\n",
    "        atom_features[\"id\"].append(np.repeat(graph.id, graph.num_nodes))\n",
    "        for i in range(num_atom_features):\n",
    "            atom_features[atom_feature_map[i]].append(graph.x[:,i])\n",
    "\n",
    "        bond_features[\"split\"].append(np.repeat(split_name, graph.num_edges))\n",
    "        bond_features[\"id\"].append(np.repeat(graph.id, graph.num_edges))\n",
    "        for i in range(num_bond_features):\n",
    "            bond_features[bond_feature_map[i]].append(graph.edge_attr[:,i])\n",
    "\n",
    "\n",
    "atom_features = {key: np.concatenate(val) for key, val in atom_features.items()}\n",
    "bond_features = {key: np.concatenate(val) for key, val in bond_features.items()}\n",
    "atom_features = pd.DataFrame(data=atom_features)\n",
    "bond_features = pd.DataFrame(data=bond_features)\n"
   ]
  },
  {
   "cell_type": "code",
   "execution_count": null,
   "metadata": {},
   "outputs": [
    {
     "name": "stdout",
     "output_type": "stream",
     "text": [
      "atomic_num\n",
      "5     761155\n",
      "7     144737\n",
      "6     100979\n",
      "15     18731\n",
      "16     10229\n",
      "8       6452\n",
      "14      2124\n",
      "34      1997\n",
      "52       526\n",
      "13       484\n",
      "10       435\n",
      "33       161\n",
      "49       160\n",
      "28       118\n",
      "26       116\n",
      "4        116\n",
      "27        77\n",
      "25        65\n",
      "77        55\n",
      "45        46\n",
      "29        39\n",
      "32        36\n",
      "18        35\n",
      "31        31\n",
      "41        27\n",
      "24        25\n",
      "44        22\n",
      "76        20\n",
      "79        17\n",
      "23        15\n",
      "73        11\n",
      "82        11\n",
      "43        11\n",
      "78        11\n",
      "50         8\n",
      "2          8\n",
      "30         8\n",
      "0          7\n",
      "81         7\n",
      "74         6\n",
      "51         6\n",
      "12         5\n",
      "80         5\n",
      "11         5\n",
      "46         5\n",
      "19         3\n",
      "21         3\n",
      "91         3\n",
      "39         3\n",
      "22         2\n",
      "64         1\n",
      "88         1\n",
      "54         1\n",
      "66         1\n",
      "63         1\n",
      "Name: count, dtype: int64\n",
      "chiral_tag\n",
      "0    1049163\n",
      "Name: count, dtype: int64\n",
      "degree\n",
      "3     570336\n",
      "4     260192\n",
      "2     116266\n",
      "1     101032\n",
      "5        528\n",
      "0        508\n",
      "6        248\n",
      "9         21\n",
      "7         14\n",
      "8         14\n",
      "10         4\n",
      "Name: count, dtype: int64\n",
      "formal_charge\n",
      "5    1034279\n",
      "6       8137\n",
      "4       6070\n",
      "3        209\n",
      "1        151\n",
      "8        119\n",
      "2        119\n",
      "7         58\n",
      "0         21\n",
      "Name: count, dtype: int64\n",
      "num_h\n",
      "0    487479\n",
      "1    365370\n",
      "2    123782\n",
      "3     72531\n",
      "4         1\n",
      "Name: count, dtype: int64\n",
      "num_rad_electrons\n",
      "0    1049159\n",
      "2          4\n",
      "Name: count, dtype: int64\n",
      "hybridization\n",
      "1    717048\n",
      "2    320888\n",
      "0      9603\n",
      "5      1000\n",
      "3       493\n",
      "4       131\n",
      "Name: count, dtype: int64\n",
      "is_aromatic\n",
      "0    592335\n",
      "1    456828\n",
      "Name: count, dtype: int64\n",
      "in_ring\n",
      "1    635927\n",
      "0    413236\n",
      "Name: count, dtype: int64\n"
     ]
    }
   ],
   "source": [
    "# all atom features\n",
    "total_atom_feat = len(atom_features)\n",
    "occuring_atom_feat = {}\n",
    "for idx, feat in atom_feature_map.items():\n",
    "    count = atom_features[feat].value_counts()\n",
    "    count = count[count>0]\n",
    "    print(count)\n",
    "    occuring_atom_feat[idx] = list(count.keys())\n",
    "\n",
    "\n",
    "# for key, ls in occuring_atom_feat.items():\n",
    "#     print(f\"'{atom_feature_map[key]}': {len(ls)}\")"
   ]
  },
  {
   "cell_type": "code",
   "execution_count": 10,
   "metadata": {},
   "outputs": [
    {
     "data": {
      "text/plain": [
       "(75264,\n",
       " 0.9992566346544379,\n",
       " {0: [5, 7, 6, 15, 16, 8, 14, 34, 52, 13, 10, 33, 49, 28, 26, 4],\n",
       "  1: [0],\n",
       "  2: [3, 4, 2, 1, 5, 0, 6],\n",
       "  3: [5, 6, 4, 3, 1, 8, 2],\n",
       "  4: [0, 1, 2, 3],\n",
       "  5: [0],\n",
       "  6: [1, 2, 0, 5, 3, 4],\n",
       "  7: [0, 1],\n",
       "  8: [1, 0]})"
      ]
     },
     "execution_count": 10,
     "metadata": {},
     "output_type": "execute_result"
    }
   ],
   "source": [
    "# frequent (>0.01%) atom features\n",
    "total_atom_feat = len(atom_features)\n",
    "coverage = 1\n",
    "frequent_atom_feat = {}\n",
    "for idx, feat in atom_feature_map.items():\n",
    "    count = atom_features[feat].value_counts()/total_atom_feat\n",
    "    count = count[count>0.0001]\n",
    "    # print(count)\n",
    "    coverage = coverage*sum(count.values)\n",
    "    frequent_atom_feat[idx] = list(count.keys())\n",
    "\n",
    "frequent_atom_feat\n",
    "\n",
    "count = 1\n",
    "for val in frequent_atom_feat.values():\n",
    "    count *= len(val)\n",
    "count, coverage, frequent_atom_feat\n",
    "\n",
    "# for key, ls in frequent_atom_feat.items():\n",
    "#     print(f\"'{atom_feature_map[key]}': {len(ls)}\")"
   ]
  },
  {
   "cell_type": "code",
   "execution_count": 18,
   "metadata": {},
   "outputs": [
    {
     "name": "stdout",
     "output_type": "stream",
     "text": [
      "bond_type\n",
      "0    0.490681\n",
      "3    0.417635\n",
      "1    0.087642\n",
      "2    0.004042\n",
      "Name: count, dtype: float64\n",
      "stereo\n",
      "0    1.0\n",
      "Name: count, dtype: float64\n",
      "is_conjugated\n",
      "1    0.63133\n",
      "0    0.36867\n",
      "Name: count, dtype: float64\n"
     ]
    },
    {
     "data": {
      "text/plain": [
       "(8, 1.0, {0: [0, 3, 1, 2], 1: [0], 2: [1, 0]})"
      ]
     },
     "execution_count": 18,
     "metadata": {},
     "output_type": "execute_result"
    }
   ],
   "source": [
    "total_bond_feat = len(bond_features)\n",
    "coverage = 1\n",
    "frequent_bond_feat = {}\n",
    "for idx, feat in bond_feature_map.items():\n",
    "    count = bond_features[feat].value_counts()/total_bond_feat\n",
    "    count = count[count>0.001]\n",
    "    print(count)\n",
    "    coverage = coverage*sum(count.values)\n",
    "    frequent_bond_feat[idx] = list(count.keys())\n",
    "\n",
    "count = 1\n",
    "for val in frequent_bond_feat.values():\n",
    "    count *= len(val)\n",
    "count, coverage, frequent_bond_feat"
   ]
  },
  {
   "cell_type": "code",
   "execution_count": 5,
   "metadata": {},
   "outputs": [
    {
     "data": {
      "text/plain": [
       "[(0, 5),\n",
       " (0, 7),\n",
       " (1, 0),\n",
       " (2, 3),\n",
       " (2, 4),\n",
       " (2, 2),\n",
       " (3, 5),\n",
       " (4, 0),\n",
       " (4, 1),\n",
       " (4, 2),\n",
       " (5, 0),\n",
       " (6, 1),\n",
       " (6, 2),\n",
       " (7, 0),\n",
       " (7, 1),\n",
       " (8, 1),\n",
       " (8, 0)]"
      ]
     },
     "execution_count": 5,
     "metadata": {},
     "output_type": "execute_result"
    }
   ],
   "source": [
    "frequent_atom_feat_idx = [(key, x) for key, xs in frequent_atom_feat.items() for x in xs]\n",
    "frequent_atom_feat_idx"
   ]
  },
  {
   "cell_type": "code",
   "execution_count": null,
   "metadata": {},
   "outputs": [],
   "source": []
  }
 ],
 "metadata": {
  "kernelspec": {
   "display_name": "thesis",
   "language": "python",
   "name": "python3"
  },
  "language_info": {
   "codemirror_mode": {
    "name": "ipython",
    "version": 3
   },
   "file_extension": ".py",
   "mimetype": "text/x-python",
   "name": "python",
   "nbconvert_exporter": "python",
   "pygments_lexer": "ipython3",
   "version": "3.10.11"
  },
  "orig_nbformat": 4
 },
 "nbformat": 4,
 "nbformat_minor": 2
}
